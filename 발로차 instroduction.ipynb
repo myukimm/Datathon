{
  "nbformat": 4,
  "nbformat_minor": 0,
  "metadata": {
    "colab": {
      "name": "Untitled40.ipynb",
      "provenance": []
    },
    "kernelspec": {
      "name": "python3",
      "display_name": "Python 3"
    },
    "language_info": {
      "name": "python"
    }
  },
  "cells": [
    {
      "cell_type": "markdown",
      "source": [
        "# 발로차 "
      ],
      "metadata": {
        "id": "XqpqA3i0YnaO"
      }
    },
    {
      "cell_type": "markdown",
      "source": [
        "### 1. 목차\n",
        "\n",
        "1. 데이터 분석\n",
        "\n",
        "2. 데이터 도식화\n",
        "\n",
        "3. 게임 데이터와 비교\n",
        "\n",
        "4. 결론"
      ],
      "metadata": {
        "id": "Kw9PMOqMYnh_"
      }
    },
    {
      "cell_type": "markdown",
      "source": [
        "### 2. 목적\n",
        "\n",
        "인류의 안녕과 세계 평화의 이바지\n"
      ],
      "metadata": {
        "id": "i875DoKvYnk5"
      }
    },
    {
      "cell_type": "markdown",
      "source": [
        "### 3. 기간\n",
        "\n",
        "7월 26일 ~ 7월 29일"
      ],
      "metadata": {
        "id": "JV_54LmSYnni"
      }
    },
    {
      "cell_type": "markdown",
      "source": [
        "### 4. 데이터 소개\n",
        "\n",
        "epl premier league 20 21 선수 스탯"
      ],
      "metadata": {
        "id": "d3k3qtxkY1_3"
      }
    },
    {
      "cell_type": "markdown",
      "source": [
        "### 5. 팀원소개\n",
        "\n",
        "박철영\n",
        "\n",
        "김건희\n",
        "\n",
        "김명찬"
      ],
      "metadata": {
        "id": "C-0x6w4tY341"
      }
    }
  ]
}